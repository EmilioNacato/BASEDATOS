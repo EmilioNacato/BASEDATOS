{
  "nbformat": 4,
  "nbformat_minor": 0,
  "metadata": {
    "colab": {
      "provenance": []
    },
    "kernelspec": {
      "name": "python3",
      "display_name": "Python 3"
    },
    "language_info": {
      "name": "python"
    }
  },
  "cells": [
    {
      "cell_type": "markdown",
      "source": [
        "**Entidad universidades**"
      ],
      "metadata": {
        "id": "80fr9pSR272a"
      }
    },
    {
      "cell_type": "code",
      "execution_count": 96,
      "metadata": {
        "colab": {
          "base_uri": "https://localhost:8080/"
        },
        "id": "zPYyvnwr0nYP",
        "outputId": "6255481b-30e0-4665-d811-64759b7d86a0"
      },
      "outputs": [
        {
          "output_type": "stream",
          "name": "stdout",
          "text": [
            "Looking in indexes: https://pypi.org/simple, https://us-python.pkg.dev/colab-wheels/public/simple/\n",
            "Requirement already satisfied: Faker in /usr/local/lib/python3.7/dist-packages (15.3.3)\n",
            "Requirement already satisfied: typing-extensions>=3.10.0.1 in /usr/local/lib/python3.7/dist-packages (from Faker) (4.1.1)\n",
            "Requirement already satisfied: python-dateutil>=2.4 in /usr/local/lib/python3.7/dist-packages (from Faker) (2.8.2)\n",
            "Requirement already satisfied: six>=1.5 in /usr/local/lib/python3.7/dist-packages (from python-dateutil>=2.4->Faker) (1.15.0)\n"
          ]
        }
      ],
      "source": [
        "#Instalamos la libreria faker para la generación de nombres aleatorios. \n",
        "!pip install Faker"
      ]
    },
    {
      "cell_type": "code",
      "source": [
        "#Importamos las librerias necesarias para la generación de datos.\n",
        "#Importamos la libreria pandas para el manejo y estructuración de los datos sinteticos\n",
        "import pandas as pd\n",
        "#Importamos la libreria uuid para la generacion de codigos Ids propios\n",
        "import uuid\n",
        "#Importamos la libreria random para generacion de numeros randomicos\n",
        "import random\n",
        "#Importamos la libreria faker para generacion de nombres aleatorios\n",
        "from faker import Faker\n",
        "#Importamos la libreria datetime para las fechas\n",
        "import datetime"
      ],
      "metadata": {
        "id": "_einclAr0rIu"
      },
      "execution_count": 97,
      "outputs": []
    },
    {
      "cell_type": "code",
      "source": [
        "#Variable para la creación de los 5000 datos.\n",
        "num_aspirantes = 5000"
      ],
      "metadata": {
        "id": "2A-MdFwM23KM"
      },
      "execution_count": 98,
      "outputs": []
    },
    {
      "cell_type": "code",
      "source": [
        "# Una lista de 6 atributos\n",
        "atributos = [\n",
        "    \"IdUn\",\n",
        "    \"NombreUn\",\n",
        "    \"TelefonoUn\",\n",
        "    \"CorreoUn\",\n",
        "    \"DescripcionUn\",\n",
        "    \"StatusUn\",\n",
        "]# Creamos un DF de los atributos\n",
        "df = pd.DataFrame(columns=atributos)"
      ],
      "metadata": {
        "id": "O-UaxsS425L8"
      },
      "execution_count": 99,
      "outputs": []
    },
    {
      "cell_type": "code",
      "source": [
        "#Guardamos en la columna IdUn del df los ids representativos de cada universidad\n",
        "df['IdUn'] = [uuid.uuid4().hex for i in range(num_aspirantes)]"
      ],
      "metadata": {
        "id": "gPA_BdT56jJ5"
      },
      "execution_count": 100,
      "outputs": []
    },
    {
      "cell_type": "code",
      "source": [
        "#Hacer que los ids sean unicos para cada universidad, y en caso de ser así \n",
        "#retornar True.\n",
        "print(df['IdUn'].nunique()==num_aspirantes)"
      ],
      "metadata": {
        "colab": {
          "base_uri": "https://localhost:8080/"
        },
        "id": "Gpg7pCLw6peY",
        "outputId": "1302143a-3c0f-435c-9925-c59ba0efd2f6"
      },
      "execution_count": 101,
      "outputs": [
        {
          "output_type": "stream",
          "name": "stdout",
          "text": [
            "True\n"
          ]
        }
      ]
    },
    {
      "cell_type": "code",
      "source": [
        "#Variable para los dos géneros a manejar para la creación de los nombre de las universidades.\n",
        "genero = [\"male\", \"female\"]"
      ],
      "metadata": {
        "id": "pca1vAXA6xf7"
      },
      "execution_count": 102,
      "outputs": []
    },
    {
      "cell_type": "code",
      "source": [
        "#Columna genero que nos servirá para crear los nombre de las universidades.\n",
        "df['genero']= random.choices(\n",
        "    genero, \n",
        "    weights=(70,30), \n",
        "    k=num_aspirantes\n",
        ")"
      ],
      "metadata": {
        "id": "bsmBD3ww9ZDr"
      },
      "execution_count": 103,
      "outputs": []
    },
    {
      "cell_type": "code",
      "source": [
        "#Instancia Faker\n",
        "faker = Faker()\n",
        "#Creamos una función.\n",
        "def name_gen(genero):\n",
        "    \"\"\"\n",
        "    Generamos los distintos nombres de las universidades dependiendo el genero \n",
        "    asignado mediante la instancia faker.\n",
        "\n",
        "    Parámetros\n",
        "    -------\n",
        "      genero: str\n",
        "        Género para asignar un nombre a una universidad.\n",
        "    \n",
        "    Return\n",
        "    -------\n",
        "    Retorna los nombres de las universidades.\n",
        "    \"\"\"\n",
        "    #En caso de que el genero sea hombre nos retornara un nombre masculino\n",
        "    if genero=='male':\n",
        "        return faker.name_male()\n",
        "    #En caso de que el genero sea mujer nos retornara un nombre femenino\n",
        "    elif genero=='female':\n",
        "        return faker.name_female()\n",
        "    \n",
        "    return faker.name()#Generamos los nombres para cada universidad\n",
        "#Guardamos los nombres de la universidad en todo el atributo NombreUn\n",
        "df['NombreUn'] = ['Universidad '+name_gen(i) for i in df['genero']]"
      ],
      "metadata": {
        "id": "EeyucmxA9hQ6"
      },
      "execution_count": 104,
      "outputs": []
    },
    {
      "cell_type": "code",
      "source": [
        "#From datetime para la generación de números en cada uno de los 5 mil datos.\n",
        "from datetime import datetime\n",
        "#Variable numero como string y size siendo la cantidad de números que formaran\n",
        "#la cadena de números.\n",
        "numero=[]\n",
        "size = 10\n",
        "\n",
        "\n",
        "for i in range(0, num_aspirantes): #Generación de números de teléfonos\n",
        "  random.seed(datetime.now())\n",
        "  valores = [0,1,2,3,4,5,6,7,8,9] #Números por los cual puede formarse la cadena\n",
        "  numero=(''.join([str(random.choice(valores)) for i in range(size)]))#Creación de los numeros\n",
        "  df.TelefonoUn[i]=numero #Guardamos los numeros generados en el atributo TelefonoUn"
      ],
      "metadata": {
        "id": "hfenlKTWA2Ec"
      },
      "execution_count": 105,
      "outputs": []
    },
    {
      "cell_type": "code",
      "source": [
        "#Creación de función\n",
        "def emailGen(name, duplicateFound=False):\n",
        "    \"\"\"\n",
        "    Genera una dirección de correo electrónico aleatoria basada en el nombre dado.\n",
        "     Agrega un número al final si se encuentra una dirección duplicada.\n",
        "\n",
        "    Parámetros\n",
        "    -------\n",
        "      name: str\n",
        "        Nombre de la universidad\n",
        "      duplicateFound: \n",
        "\n",
        "    Return\n",
        "    -------\n",
        "    Retorna el nombre de la universidad junto con un caracter especial y el \n",
        "    dominio especificado edu.ec\n",
        "    \"\"\"\n",
        "    # Dominio para usar\n",
        "    dom = \"@edu.ec\"\n",
        "    \n",
        "    # Minusculas y division\n",
        "    name = name.lower().split(\" \")\n",
        "    \n",
        "    #Caracteres random en el correo\n",
        "    chars = [\".\", \"_\"]\n",
        "    \n",
        "    new_name = name[0] + random.choice(chars) + name[1] \n",
        "    \n",
        "    #Distinguir para los duplicados de los correos\n",
        "    if duplicateFound:\n",
        "        \n",
        "        #Numero aleatorio para insertar al final\n",
        "        num = random.randint(0,100)\n",
        "        \n",
        "        #Insertar al final\n",
        "        new_name = new_name + str(num)\n",
        "        \n",
        "    #Devolver la dirección de correo electrónico con el nombre de dominio adjunto\n",
        "    return new_name + dom"
      ],
      "metadata": {
        "id": "TAR7WqyNJGAV"
      },
      "execution_count": 106,
      "outputs": []
    },
    {
      "cell_type": "code",
      "source": [
        "#Variable para los correos electrónicos como string\n",
        "emails = []\n",
        "\n",
        "for NombreUn in df['NombreUn']: \n",
        "    \n",
        "    # Generamos el correo\n",
        "    email = emailGen(NombreUn)\n",
        "    \n",
        "    # Bucle hasta que se genera un correo electrónico único\n",
        "    while email in emails:\n",
        "        \n",
        "        # Crear un correo electrónico con un número aleatorio\n",
        "        email = emailGen(NombreUn, duplicateFound=True)\n",
        "    \n",
        "    # Adjuntar el nuevo correo electrónico a la lista\n",
        "    emails.append(email)\n",
        "    \n",
        "df['CorreoUn'] = emails #Guardamos los correos electrónicos en el atributo CorreoUn"
      ],
      "metadata": {
        "id": "vj-MS2-DJXaT"
      },
      "execution_count": 107,
      "outputs": []
    },
    {
      "cell_type": "code",
      "source": [
        "#Importamos las libreria string para la creación de una cadena de caracteres que representan texto\n",
        "import string\n",
        "#Creamos la variale para la descripción de tipo string junto con su longitud de \n",
        "#cadena de caracteres\n",
        "bio=[]\n",
        "length_of_string = 20\n",
        "\n",
        "for i in range(0, num_aspirantes):#Creamos la descripcion de la universidad\n",
        "  random.seed(datetime.now())\n",
        "  #La descripcion contendra todo tipo de caracteres.\n",
        "  bio=(''.join(random.SystemRandom().choice(string.ascii_letters + string.digits) for i in range(length_of_string)))\n",
        "  #Guardamos la descripcion en el atributo DescripcionUn\n",
        "  df.DescripcionUn[i] =bio"
      ],
      "metadata": {
        "id": "y4x2Xdu2J7Vp"
      },
      "execution_count": 108,
      "outputs": []
    },
    {
      "cell_type": "code",
      "source": [
        "#Variable para los dos estados a manejar.\n",
        "StatusUn = [\"Activo\", \"Desactivo\"]"
      ],
      "metadata": {
        "id": "GG0Jd9uMNod3"
      },
      "execution_count": 109,
      "outputs": []
    },
    {
      "cell_type": "code",
      "source": [
        "#Guardamos el estado generado aleatoriamente en el atributo StatusUn\n",
        "df['StatusUn']= random.choices(\n",
        "    StatusUn, \n",
        "    weights=(70,30), \n",
        "    k=num_aspirantes\n",
        ")"
      ],
      "metadata": {
        "id": "jKGT3FXwN2Bd"
      },
      "execution_count": 110,
      "outputs": []
    },
    {
      "cell_type": "code",
      "source": [
        "#Borramos de nuestra tabla el genero ya que no es necesario saber en nuestros \n",
        "#datos sintéticos\n",
        "del(df['genero'])\n"
      ],
      "metadata": {
        "id": "w2CuzppZlv5h"
      },
      "execution_count": 111,
      "outputs": []
    },
    {
      "cell_type": "code",
      "source": [
        "#Guardamos todos los datos junto con sus atributos en un archivo csv.\n",
        "df.to_csv('universidad.csv')"
      ],
      "metadata": {
        "id": "dPjYBcvp-ADq"
      },
      "execution_count": 112,
      "outputs": []
    }
  ]
}