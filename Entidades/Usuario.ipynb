{
  "nbformat": 4,
  "nbformat_minor": 0,
  "metadata": {
    "colab": {
      "provenance": []
    },
    "kernelspec": {
      "name": "python3",
      "display_name": "Python 3"
    },
    "language_info": {
      "name": "python"
    }
  },
  "cells": [
    {
      "cell_type": "markdown",
      "source": [
        "**Entidad Usuario**\n",
        "\n",
        "\n"
      ],
      "metadata": {
        "id": "j5T2571bXLRd"
      }
    },
    {
      "cell_type": "code",
      "execution_count": 1,
      "metadata": {
        "colab": {
          "base_uri": "https://localhost:8080/"
        },
        "id": "CWfIM8PTUy5v",
        "outputId": "d0e73464-f75f-4f32-c0cf-bb80f35fd43c"
      },
      "outputs": [
        {
          "output_type": "stream",
          "name": "stdout",
          "text": [
            "Looking in indexes: https://pypi.org/simple, https://us-python.pkg.dev/colab-wheels/public/simple/\n",
            "Collecting Faker\n",
            "  Downloading Faker-15.3.3-py3-none-any.whl (1.6 MB)\n",
            "\u001b[K     |████████████████████████████████| 1.6 MB 4.3 MB/s \n",
            "\u001b[?25hRequirement already satisfied: python-dateutil>=2.4 in /usr/local/lib/python3.7/dist-packages (from Faker) (2.8.2)\n",
            "Requirement already satisfied: typing-extensions>=3.10.0.1 in /usr/local/lib/python3.7/dist-packages (from Faker) (4.1.1)\n",
            "Requirement already satisfied: six>=1.5 in /usr/local/lib/python3.7/dist-packages (from python-dateutil>=2.4->Faker) (1.15.0)\n",
            "Installing collected packages: Faker\n",
            "Successfully installed Faker-15.3.3\n"
          ]
        }
      ],
      "source": [
        "#Instalamos la libreria faker para la generación de nombres aleatorios. \n",
        "!pip install Faker"
      ]
    },
    {
      "cell_type": "code",
      "source": [
        "#Importamos las librerias necesarias para la generación de datos.\n",
        "#Importamos la libreria pandas para el manejo y estructuración de los datos sinteticos\n",
        "import pandas as pd\n",
        "#Importamos la libreria uuid para la generacion de codigos Ids propios\n",
        "import uuid\n",
        "#Importamos la libreria random para generacion de numeros randomicos\n",
        "import random\n",
        "#Importamos la libreria faker para generacion de nombres aleatorios\n",
        "from faker import Faker\n",
        "#Importamos la libreria datetime para las fechas\n",
        "import datetime"
      ],
      "metadata": {
        "id": "sQjhVBVaXmB9"
      },
      "execution_count": 2,
      "outputs": []
    },
    {
      "cell_type": "code",
      "source": [
        "#Variable para la creación de los 5000 datos.\n",
        "num_aspirantes = 5000"
      ],
      "metadata": {
        "id": "fIvEv8lbXnMF"
      },
      "execution_count": 3,
      "outputs": []
    },
    {
      "cell_type": "code",
      "source": [
        "# Una lista de 9 atributos\n",
        "atributos = [\n",
        "    \"IdUs\",\n",
        "    \"GeneroUs\",\n",
        "    \"NombreUs\",\n",
        "    \"CorreoUs\",\n",
        "    \"TipoUs\",\n",
        "    \"DescripcionUs\",\n",
        "    \"StatusUs\",\n",
        "    \"TelefonoUs\",\n",
        "    \"IdPerm\",\n",
        "]# Creamos un DF de los atributos\n",
        "df = pd.DataFrame(columns=atributos)"
      ],
      "metadata": {
        "id": "LXDpnHPDXoKk"
      },
      "execution_count": 4,
      "outputs": []
    },
    {
      "cell_type": "code",
      "source": [
        "#Guardamos en la columna IdUn del df los ids representativos de cada usuario.\n",
        "df['IdUs'] = [uuid.uuid4().hex for i in range(num_aspirantes)]"
      ],
      "metadata": {
        "id": "8r2yRg12YXzC"
      },
      "execution_count": 5,
      "outputs": []
    },
    {
      "cell_type": "code",
      "source": [
        "#Hacer que los ids sean unicos para cada usuario, y en caso de ser así \n",
        "#retornar True.\n",
        "print(df['IdUs'].nunique()==num_aspirantes)"
      ],
      "metadata": {
        "colab": {
          "base_uri": "https://localhost:8080/"
        },
        "id": "BIiq7isWYaKM",
        "outputId": "3d467990-9888-4dbb-b4c2-205d3b3b08bf"
      },
      "execution_count": 6,
      "outputs": [
        {
          "output_type": "stream",
          "name": "stdout",
          "text": [
            "True\n"
          ]
        }
      ]
    },
    {
      "cell_type": "code",
      "source": [
        "#Variable para los dos géneros a manejar para la creación de los nombres de los usuarios.\n",
        "GeneroUs = [\"male\", \"female\"]"
      ],
      "metadata": {
        "id": "lrTGHFh1YbOS"
      },
      "execution_count": 7,
      "outputs": []
    },
    {
      "cell_type": "code",
      "source": [
        "#Generación de los nombres de los usuarios.\n",
        "df['GeneroUs']= random.choices(\n",
        "    GeneroUs, \n",
        "    weights=(50,50), \n",
        "    k=num_aspirantes\n",
        ")"
      ],
      "metadata": {
        "id": "7IkPswexYjXp"
      },
      "execution_count": 8,
      "outputs": []
    },
    {
      "cell_type": "code",
      "source": [
        "#Instancia Faker\n",
        "faker = Faker()\n",
        "#Creamos una función.\n",
        "def name_gen(GeneroUs):\n",
        "    \"\"\"\n",
        "    Generamos los distintos nombres para los usuarios.\n",
        "\n",
        "    Parámetros\n",
        "    -------\n",
        "      GeneroUs: str\n",
        "        Genero del usuario\n",
        "    \n",
        "    Return\n",
        "    -------\n",
        "    Retorna el nombre del usuario\n",
        "    \"\"\"\n",
        "    #En caso de que el genero sea hombre nos retornara un nombre masculino\n",
        "    if GeneroUs=='male':\n",
        "        return faker.name_male()\n",
        "    #En caso de que el genero sea mujer nos retornara un nombre femenino\n",
        "    elif GeneroUs=='female':\n",
        "        return faker.name_female()\n",
        "    \n",
        "    return faker.name()#Generamos los nombres de los usuarios\n",
        "#Guardamos los nombres de los usuarios en todo el atributo NombreUn\n",
        "df['NombreUs'] = [name_gen(i) for i in df['GeneroUs']]"
      ],
      "metadata": {
        "id": "EmZPY2_WYkbx"
      },
      "execution_count": 9,
      "outputs": []
    },
    {
      "cell_type": "code",
      "source": [
        "def emailGen(name, duplicateFound=False):\n",
        "    \"\"\"\n",
        "    Genera una dirección de correo electrónico aleatoria basada en el nombre dado.\n",
        "      Agrega un número al final si se encuentra una dirección duplicada.\n",
        "\n",
        "    Parámetros\n",
        "    -------\n",
        "      name: str\n",
        "        Nombre del usuario\n",
        "      duplicateFound: \n",
        "\n",
        "    Return\n",
        "    -------\n",
        "    Retorna el nombre del usuario junto con un caracter especial y el \n",
        "      dominio especificado senecyt.ec\n",
        "    \"\"\"\n",
        "    # Dominio para usar\n",
        "    dom = \"@senecyt.ec\"\n",
        "    \n",
        "    # Minusculas y division\n",
        "    name = name.lower().split(\" \")\n",
        "    \n",
        "    #Caracteres random en el correo\n",
        "    chars = [\".\", \"_\"]\n",
        "    \n",
        "    new_name = name[0] + random.choice(chars) + name[1] \n",
        "    \n",
        "    #Distinguir para los duplicados de los correos\n",
        "    if duplicateFound:\n",
        "        \n",
        "        #Numero aleatorio para insertar al final\n",
        "        num = random.randint(0,100)\n",
        "        \n",
        "        #Insertar al final\n",
        "        new_name = new_name + str(num)\n",
        "        \n",
        "    #Devolver la dirección de correo electrónico con el nombre de dominio adjunto\n",
        "    return new_name + dom"
      ],
      "metadata": {
        "id": "711YHpuQbKEi"
      },
      "execution_count": 10,
      "outputs": []
    },
    {
      "cell_type": "code",
      "source": [
        "#Variable para los correos electrónicos como string\n",
        "emails = []\n",
        "\n",
        "for NombreUs in df['NombreUs']:\n",
        "    \n",
        "    # Generamos el correo\n",
        "    email = emailGen(NombreUs)\n",
        "    \n",
        "    # Bucle hasta que se genera un correo electrónico único\n",
        "    while email in emails:\n",
        "        \n",
        "        # Crear un correo electrónico con un número aleatorio\n",
        "        email = emailGen(NombreUs, duplicateFound=True)\n",
        "    \n",
        "    # Adjuntar el nuevo correo electrónico a la lista\n",
        "    emails.append(email)\n",
        "    \n",
        "df['CorreoUs'] = emails #Guardamos los correos electrónicos en el atributo CorreoUs"
      ],
      "metadata": {
        "id": "4JF70SqwbOX-"
      },
      "execution_count": 11,
      "outputs": []
    },
    {
      "cell_type": "code",
      "source": [
        "#Los diferentes tipos de usuario\n",
        "TipoUs = [1,2,3] #1=Administrador/a, 2=Secretario/a, 3=Call Center\n",
        "df['TipoUs'] = random.choices( #Generamos los numeros aletorios para cada usuario\n",
        "    TipoUs, \n",
        "    weights=(20,20,60), #Porcentaje de aleatoriedad\n",
        "    k=num_aspirantes\n",
        ")"
      ],
      "metadata": {
        "id": "yfhlfkWEZQm3"
      },
      "execution_count": 12,
      "outputs": []
    },
    {
      "cell_type": "code",
      "source": [
        "#Importamos las librerias necesarias para la creacion de la descripcion\n",
        "import string\n",
        "import random\n",
        "from random import seed\n",
        "from datetime import datetime\n",
        "#Creamos la variale para la descripción de tipo string junto con su longitud de \n",
        "#cadena de caracteres\n",
        "bio=[]\n",
        "length_of_string = 20\n",
        "for i in range(0, num_aspirantes): #Creamos la descripcion de los usuarios\n",
        "  random.seed(datetime.now())\n",
        "  #La descripcion contendra todo tipo de caracteres.\n",
        "  bio=(''.join(random.SystemRandom().choice(string.ascii_letters + string.digits) for i in range(length_of_string)))\n",
        "  #Guardamos la descripcion en el atributo DescripcionUs\n",
        "  df.DescripcionUs[i] =bio"
      ],
      "metadata": {
        "id": "WsWneyQoaHsU",
        "colab": {
          "base_uri": "https://localhost:8080/"
        },
        "outputId": "b8fbaf47-1b81-4a12-a28b-99621ada66cb"
      },
      "execution_count": 13,
      "outputs": [
        {
          "output_type": "stream",
          "name": "stderr",
          "text": [
            "/usr/local/lib/python3.7/dist-packages/ipykernel_launcher.py:15: SettingWithCopyWarning: \n",
            "A value is trying to be set on a copy of a slice from a DataFrame\n",
            "\n",
            "See the caveats in the documentation: https://pandas.pydata.org/pandas-docs/stable/user_guide/indexing.html#returning-a-view-versus-a-copy\n",
            "  from ipykernel import kernelapp as app\n"
          ]
        }
      ]
    },
    {
      "cell_type": "code",
      "source": [
        "#Variable para los dos estados a manejar.\n",
        "StatusUs = [\"Activo\", \"Desactivo\"]"
      ],
      "metadata": {
        "id": "JlwgOAzcahIg"
      },
      "execution_count": 14,
      "outputs": []
    },
    {
      "cell_type": "code",
      "source": [
        "#Guardamos el estado generado aleatoriamente en el atributo StatusUs\n",
        "df['StatusUs']= random.choices(\n",
        "    StatusUs, \n",
        "    weights=(70,30), \n",
        "    k=num_aspirantes\n",
        ")"
      ],
      "metadata": {
        "id": "cQLpEOF5alCo"
      },
      "execution_count": 15,
      "outputs": []
    },
    {
      "cell_type": "code",
      "source": [
        "#Importamos las librerias necesarias\n",
        "import random as r\n",
        "from random import seed\n",
        "from datetime import datetime\n",
        "#Variable numero como string y size siendo la cantidad de números que formaran\n",
        "#la cadena de números.\n",
        "numero=[]\n",
        "size = 10\n",
        "\n",
        "for i in range(0, num_aspirantes): #Generación de números de teléfonos\n",
        "  random.seed(datetime.now())\n",
        "  valores = [0,1,2,3,4,5,6,7,8,9]#Números por los cual puede formarse la cadena\n",
        "  numero=(''.join([str(random.choice(valores)) for i in range(size)]))#Creación de los numeros\n",
        "  df.TelefonoUs[i]=numero#Guardamos los numeros generados en el atributo TelefonoUs"
      ],
      "metadata": {
        "id": "YQdmUJuMa4w3",
        "colab": {
          "base_uri": "https://localhost:8080/"
        },
        "outputId": "1eae80b8-2e8c-48ac-ac24-705d14a7613e"
      },
      "execution_count": 16,
      "outputs": [
        {
          "output_type": "stream",
          "name": "stderr",
          "text": [
            "/usr/local/lib/python3.7/dist-packages/ipykernel_launcher.py:14: SettingWithCopyWarning: \n",
            "A value is trying to be set on a copy of a slice from a DataFrame\n",
            "\n",
            "See the caveats in the documentation: https://pandas.pydata.org/pandas-docs/stable/user_guide/indexing.html#returning-a-view-versus-a-copy\n",
            "  \n"
          ]
        }
      ]
    },
    {
      "cell_type": "code",
      "source": [
        "#Guardamos en la columna IdUs del df los ids representativos de cada permiso.\n",
        "df['IdPerm'] = [uuid.uuid4().hex for i in range(num_aspirantes)]"
      ],
      "metadata": {
        "id": "IvkJfPB7bdQl"
      },
      "execution_count": 17,
      "outputs": []
    },
    {
      "cell_type": "code",
      "source": [
        "#Hacer que los ids sean unicos para cada permiso, y en caso de ser así \n",
        "#retornar True.\n",
        "print(df['IdPerm'].nunique()==num_aspirantes)"
      ],
      "metadata": {
        "id": "vV6n7IElbgSF",
        "colab": {
          "base_uri": "https://localhost:8080/"
        },
        "outputId": "edabcd12-432c-428f-b9ee-e376e50af385"
      },
      "execution_count": 18,
      "outputs": [
        {
          "output_type": "stream",
          "name": "stdout",
          "text": [
            "True\n"
          ]
        }
      ]
    },
    {
      "cell_type": "code",
      "source": [
        "#Guardamos todos los datos junto con sus atributos en un archivo csv.\n",
        "df.to_csv('usuario.csv')"
      ],
      "metadata": {
        "id": "NqdBrVVkYrM6"
      },
      "execution_count": 19,
      "outputs": []
    },
    {
      "cell_type": "code",
      "source": [],
      "metadata": {
        "id": "89Pawf03Ysk4"
      },
      "execution_count": 19,
      "outputs": []
    }
  ]
}