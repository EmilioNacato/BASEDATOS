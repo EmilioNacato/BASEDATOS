{
  "nbformat": 4,
  "nbformat_minor": 0,
  "metadata": {
    "colab": {
      "provenance": []
    },
    "kernelspec": {
      "name": "python3",
      "display_name": "Python 3"
    },
    "language_info": {
      "name": "python"
    }
  },
  "cells": [
    {
      "cell_type": "markdown",
      "source": [
        "**Entidad Usuario**\n",
        "\n",
        "\n"
      ],
      "metadata": {
        "id": "j5T2571bXLRd"
      }
    },
    {
      "cell_type": "code",
      "execution_count": 139,
      "metadata": {
        "colab": {
          "base_uri": "https://localhost:8080/"
        },
        "id": "CWfIM8PTUy5v",
        "outputId": "f3714b5f-9ddc-4052-ea67-8f51fb6ae04c"
      },
      "outputs": [
        {
          "output_type": "stream",
          "name": "stdout",
          "text": [
            "Looking in indexes: https://pypi.org/simple, https://us-python.pkg.dev/colab-wheels/public/simple/\n",
            "Requirement already satisfied: Faker in /usr/local/lib/python3.7/dist-packages (15.3.2)\n",
            "Requirement already satisfied: python-dateutil>=2.4 in /usr/local/lib/python3.7/dist-packages (from Faker) (2.8.2)\n",
            "Requirement already satisfied: typing-extensions>=3.10.0.1 in /usr/local/lib/python3.7/dist-packages (from Faker) (4.1.1)\n",
            "Requirement already satisfied: six>=1.5 in /usr/local/lib/python3.7/dist-packages (from python-dateutil>=2.4->Faker) (1.15.0)\n"
          ]
        }
      ],
      "source": [
        "#Instalamos la libreria faker para la generación de nombres aleatorios. \n",
        "!pip install Faker"
      ]
    },
    {
      "cell_type": "code",
      "source": [
        "#Importamos las librerias necesarias para la generación de datos.\n",
        "import pandas as pd\n",
        "import uuid\n",
        "import random\n",
        "from faker import Faker\n",
        "import datetime"
      ],
      "metadata": {
        "id": "sQjhVBVaXmB9"
      },
      "execution_count": 140,
      "outputs": []
    },
    {
      "cell_type": "code",
      "source": [
        "#Variable para la creación de los 5000 datos.\n",
        "num_aspirantes = 5000"
      ],
      "metadata": {
        "id": "fIvEv8lbXnMF"
      },
      "execution_count": 141,
      "outputs": []
    },
    {
      "cell_type": "code",
      "source": [
        "# Una lista de 9 atributos\n",
        "atributos = [\n",
        "    \"IdUs\",\n",
        "    \"GeneroUs\",\n",
        "    \"NombreUs\",\n",
        "    \"CorreoUs\",\n",
        "    \"TipoUs\",\n",
        "    \"DescripcionUs\",\n",
        "    \"StatusUs\",\n",
        "    \"TelefonoUs\",\n",
        "    \"IdPerm\",\n",
        "]# Creamos un DF de los atributos\n",
        "df = pd.DataFrame(columns=atributos)"
      ],
      "metadata": {
        "id": "LXDpnHPDXoKk"
      },
      "execution_count": 142,
      "outputs": []
    },
    {
      "cell_type": "code",
      "source": [
        "#Guardamos en la columna IdUn del df los ids representativos de cada usuario.\n",
        "df['IdUs'] = [uuid.uuid4().hex for i in range(num_aspirantes)]"
      ],
      "metadata": {
        "id": "8r2yRg12YXzC"
      },
      "execution_count": 143,
      "outputs": []
    },
    {
      "cell_type": "code",
      "source": [
        "#Hacer que los ids sean unicos para cada usuario, y en caso de ser así \n",
        "#retornar True.\n",
        "print(df['IdUs'].nunique()==num_aspirantes)"
      ],
      "metadata": {
        "colab": {
          "base_uri": "https://localhost:8080/"
        },
        "id": "BIiq7isWYaKM",
        "outputId": "7bb03bc1-4b8c-4753-f322-aed551730113"
      },
      "execution_count": 144,
      "outputs": [
        {
          "output_type": "stream",
          "name": "stdout",
          "text": [
            "True\n"
          ]
        }
      ]
    },
    {
      "cell_type": "code",
      "source": [
        "#Variable para los dos géneros a manejar para la creación de los nombres de los usuarios.\n",
        "GeneroUs = [\"male\", \"female\"]"
      ],
      "metadata": {
        "id": "lrTGHFh1YbOS"
      },
      "execution_count": 145,
      "outputs": []
    },
    {
      "cell_type": "code",
      "source": [
        "#Generación de los nombres de los usuarios.\n",
        "df['GeneroUs']= random.choices(\n",
        "    GeneroUs, \n",
        "    weights=(50,50), \n",
        "    k=num_aspirantes\n",
        ")"
      ],
      "metadata": {
        "id": "7IkPswexYjXp"
      },
      "execution_count": 146,
      "outputs": []
    },
    {
      "cell_type": "code",
      "source": [
        "#Instancia Faker\n",
        "faker = Faker()\n",
        "#Creamos una función.\n",
        "def name_gen(GeneroUs):\n",
        "    \"\"\"\n",
        "    Generamos los distintos nombres para los usuarios.\n",
        "\n",
        "    Parámetros\n",
        "    -------\n",
        "      GeneroUs: str\n",
        "        Genero del usuario\n",
        "    \n",
        "    Return\n",
        "    -------\n",
        "    Retorna el nombre del usuario\n",
        "    \"\"\"\n",
        "    #En caso de que el genero sea hombre nos retornara un nombre masculino\n",
        "    if GeneroUs=='male':\n",
        "        return faker.name_male()\n",
        "    #En caso de que el genero sea mujer nos retornara un nombre femenino\n",
        "    elif GeneroUs=='female':\n",
        "        return faker.name_female()\n",
        "    \n",
        "    return faker.name()#Generamos los nombres de los usuarios\n",
        "#Guardamos los nombres de los usuarios en todo el atributo NombreUn\n",
        "df['NombreUs'] = [name_gen(i) for i in df['GeneroUs']]"
      ],
      "metadata": {
        "id": "EmZPY2_WYkbx"
      },
      "execution_count": 147,
      "outputs": []
    },
    {
      "cell_type": "code",
      "source": [
        "def emailGen(name, duplicateFound=False):\n",
        "    \"\"\"\n",
        "    Genera una dirección de correo electrónico aleatoria basada en el nombre dado.\n",
        "      Agrega un número al final si se encuentra una dirección duplicada.\n",
        "\n",
        "    Parámetros\n",
        "    -------\n",
        "      name: str\n",
        "        Nombre del usuario\n",
        "      duplicateFound: \n",
        "\n",
        "    Return\n",
        "    -------\n",
        "    Retorna el nombre del usuario junto con un caracter especial y el \n",
        "      dominio especificado senecyt.ec\n",
        "    \"\"\"\n",
        "    # Dominio para usar\n",
        "    dom = \"@senecyt.ec\"\n",
        "    \n",
        "    # Minusculas y division\n",
        "    name = name.lower().split(\" \")\n",
        "    \n",
        "    #Caracteres random en el correo\n",
        "    chars = [\".\", \"_\"]\n",
        "    \n",
        "    new_name = name[0] + random.choice(chars) + name[1] \n",
        "    \n",
        "    #Distinguir para los duplicados de los correos\n",
        "    if duplicateFound:\n",
        "        \n",
        "        #Numero aleatorio para insertar al final\n",
        "        num = random.randint(0,100)\n",
        "        \n",
        "        #Insertar al final\n",
        "        new_name = new_name + str(num)\n",
        "        \n",
        "    #Devolver la dirección de correo electrónico con el nombre de dominio adjunto\n",
        "    return new_name + dom"
      ],
      "metadata": {
        "id": "711YHpuQbKEi"
      },
      "execution_count": 148,
      "outputs": []
    },
    {
      "cell_type": "code",
      "source": [
        "#Variable para los correos electrónicos como string\n",
        "emails = []\n",
        "\n",
        "for NombreUs in df['NombreUs']:\n",
        "    \n",
        "    # Generamos el correo\n",
        "    email = emailGen(NombreUs)\n",
        "    \n",
        "    # Bucle hasta que se genera un correo electrónico único\n",
        "    while email in emails:\n",
        "        \n",
        "        # Crear un correo electrónico con un número aleatorio\n",
        "        email = emailGen(NombreUs, duplicateFound=True)\n",
        "    \n",
        "    # Adjuntar el nuevo correo electrónico a la lista\n",
        "    emails.append(email)\n",
        "    \n",
        "df['CorreoUs'] = emails #Guardamos los correos electrónicos en el atributo CorreoUs"
      ],
      "metadata": {
        "id": "4JF70SqwbOX-"
      },
      "execution_count": 149,
      "outputs": []
    },
    {
      "cell_type": "code",
      "source": [
        "#Los diferentes tipos de usuario\n",
        "TipoUs = [1,2,3] #1=Administrador/a, 2=Secretario/a, 3=Call Center\n",
        "df['TipoUs'] = random.choices( #Generamos los numeros aletorios para cada usuario\n",
        "    TipoUs, \n",
        "    weights=(20,20,60), #Porcentaje de aleatoriedad\n",
        "    k=num_aspirantes\n",
        ")"
      ],
      "metadata": {
        "id": "yfhlfkWEZQm3"
      },
      "execution_count": 150,
      "outputs": []
    },
    {
      "cell_type": "code",
      "source": [
        "#Importamos las librerias necesarias para la creacion de la descripcion\n",
        "import string\n",
        "import random\n",
        "from random import seed\n",
        "from datetime import datetime\n",
        "#Creamos la variale para la descripción de tipo string junto con su longitud de \n",
        "#cadena de caracteres\n",
        "bio=[]\n",
        "length_of_string = 20\n",
        "for i in range(0, num_aspirantes): #Creamos la descripcion de los usuarios\n",
        "  random.seed(datetime.now())\n",
        "  #La descripcion contendra todo tipo de caracteres.\n",
        "  bio=(''.join(random.SystemRandom().choice(string.ascii_letters + string.digits) for i in range(length_of_string)))\n",
        "  #Guardamos la descripcion en el atributo DescripcionUs\n",
        "  df.DescripcionUs[i] =bio"
      ],
      "metadata": {
        "id": "WsWneyQoaHsU",
        "colab": {
          "base_uri": "https://localhost:8080/"
        },
        "outputId": "9ecd5fa0-8203-4f7f-9e47-6e77bfade136"
      },
      "execution_count": 151,
      "outputs": [
        {
          "output_type": "stream",
          "name": "stderr",
          "text": [
            "/usr/local/lib/python3.7/dist-packages/ipykernel_launcher.py:15: SettingWithCopyWarning: \n",
            "A value is trying to be set on a copy of a slice from a DataFrame\n",
            "\n",
            "See the caveats in the documentation: https://pandas.pydata.org/pandas-docs/stable/user_guide/indexing.html#returning-a-view-versus-a-copy\n",
            "  from ipykernel import kernelapp as app\n"
          ]
        }
      ]
    },
    {
      "cell_type": "code",
      "source": [
        "#Variable para los dos estados a manejar.\n",
        "StatusUs = [\"Activo\", \"Desactivo\"]"
      ],
      "metadata": {
        "id": "JlwgOAzcahIg"
      },
      "execution_count": 152,
      "outputs": []
    },
    {
      "cell_type": "code",
      "source": [
        "#Guardamos el estado generado aleatoriamente en el atributo StatusUs\n",
        "df['StatusUs']= random.choices(\n",
        "    StatusUs, \n",
        "    weights=(70,30), \n",
        "    k=num_aspirantes\n",
        ")"
      ],
      "metadata": {
        "id": "cQLpEOF5alCo"
      },
      "execution_count": 153,
      "outputs": []
    },
    {
      "cell_type": "code",
      "source": [
        "#Importamos las librerias necesarias\n",
        "import random as r\n",
        "from random import seed\n",
        "from datetime import datetime\n",
        "#Variable numero como string y size siendo la cantidad de números que formaran\n",
        "#la cadena de números.\n",
        "numero=[]\n",
        "size = 10\n",
        "\n",
        "for i in range(0, num_aspirantes): #Generación de números de teléfonos\n",
        "  random.seed(datetime.now())\n",
        "  valores = [0,1,2,3,4,5,6,7,8,9]#Números por los cual puede formarse la cadena\n",
        "  numero=(''.join([str(random.choice(valores)) for i in range(size)]))#Creación de los numeros\n",
        "  df.TelefonoUs[i]=numero#Guardamos los numeros generados en el atributo TelefonoUs"
      ],
      "metadata": {
        "id": "YQdmUJuMa4w3",
        "colab": {
          "base_uri": "https://localhost:8080/"
        },
        "outputId": "46f4c68e-413a-4d7f-86e8-7dce789488ea"
      },
      "execution_count": 154,
      "outputs": [
        {
          "output_type": "stream",
          "name": "stderr",
          "text": [
            "/usr/local/lib/python3.7/dist-packages/ipykernel_launcher.py:14: SettingWithCopyWarning: \n",
            "A value is trying to be set on a copy of a slice from a DataFrame\n",
            "\n",
            "See the caveats in the documentation: https://pandas.pydata.org/pandas-docs/stable/user_guide/indexing.html#returning-a-view-versus-a-copy\n",
            "  \n"
          ]
        }
      ]
    },
    {
      "cell_type": "code",
      "source": [
        "#Guardamos en la columna IdUs del df los ids representativos de cada permiso.\n",
        "df['IdPerm'] = [uuid.uuid4().hex for i in range(num_aspirantes)]"
      ],
      "metadata": {
        "id": "IvkJfPB7bdQl"
      },
      "execution_count": 155,
      "outputs": []
    },
    {
      "cell_type": "code",
      "source": [
        "#Hacer que los ids sean unicos para cada permiso, y en caso de ser así \n",
        "#retornar True.\n",
        "print(df['IdPerm'].nunique()==num_aspirantes)"
      ],
      "metadata": {
        "id": "vV6n7IElbgSF",
        "colab": {
          "base_uri": "https://localhost:8080/"
        },
        "outputId": "ecd5ad12-1cbd-4c98-cd3c-7c42efad4b50"
      },
      "execution_count": 156,
      "outputs": [
        {
          "output_type": "stream",
          "name": "stdout",
          "text": [
            "True\n"
          ]
        }
      ]
    },
    {
      "cell_type": "code",
      "source": [
        "#Guardamos todos los datos junto con sus atributos en un archivo csv.\n",
        "df.to_csv('usuario.csv')"
      ],
      "metadata": {
        "id": "NqdBrVVkYrM6"
      },
      "execution_count": 157,
      "outputs": []
    },
    {
      "cell_type": "code",
      "source": [],
      "metadata": {
        "id": "89Pawf03Ysk4"
      },
      "execution_count": 157,
      "outputs": []
    }
  ]
}