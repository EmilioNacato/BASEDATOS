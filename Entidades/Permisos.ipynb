{
  "nbformat": 4,
  "nbformat_minor": 0,
  "metadata": {
    "colab": {
      "provenance": []
    },
    "kernelspec": {
      "name": "python3",
      "display_name": "Python 3"
    },
    "language_info": {
      "name": "python"
    }
  },
  "cells": [
    {
      "cell_type": "code",
      "execution_count": 12,
      "metadata": {
        "colab": {
          "base_uri": "https://localhost:8080/"
        },
        "id": "GFEOeoQXbteV",
        "outputId": "9000f209-5cdf-4fc0-81e5-6de76de99de3"
      },
      "outputs": [
        {
          "output_type": "stream",
          "name": "stdout",
          "text": [
            "Looking in indexes: https://pypi.org/simple, https://us-python.pkg.dev/colab-wheels/public/simple/\n",
            "Requirement already satisfied: Faker in /usr/local/lib/python3.7/dist-packages (15.3.3)\n",
            "Requirement already satisfied: python-dateutil>=2.4 in /usr/local/lib/python3.7/dist-packages (from Faker) (2.8.2)\n",
            "Requirement already satisfied: typing-extensions>=3.10.0.1 in /usr/local/lib/python3.7/dist-packages (from Faker) (4.1.1)\n",
            "Requirement already satisfied: six>=1.5 in /usr/local/lib/python3.7/dist-packages (from python-dateutil>=2.4->Faker) (1.15.0)\n"
          ]
        }
      ],
      "source": [
        "#Instalamos la libreria faker para la generación de nombres aleatorios. \n",
        "!pip install Faker"
      ]
    },
    {
      "cell_type": "code",
      "source": [
        "#Importamos las librerias necesarias para la generación de datos.\n",
        "#Importamos la libreria pandas para el manejo y estructuración de los datos sinteticos\n",
        "import pandas as pd\n",
        "#Importamos la libreria uuid para la generacion de codigos Ids propios\n",
        "import uuid\n",
        "#Importamos la libreria random para generacion de numeros randomicos\n",
        "import random\n",
        "#Importamos la libreria faker para generacion de nombres aleatorios\n",
        "from faker import Faker\n",
        "#Importamos la libreria datetime para las fechas\n",
        "import datetime"
      ],
      "metadata": {
        "id": "KKMXxu-Zbwpv"
      },
      "execution_count": 13,
      "outputs": []
    },
    {
      "cell_type": "code",
      "source": [
        "#Variable para la creación de los 5000 datos.\n",
        "num_aspirantes = 5000"
      ],
      "metadata": {
        "id": "dxRtUSeibxpA"
      },
      "execution_count": 14,
      "outputs": []
    },
    {
      "cell_type": "code",
      "source": [
        "# Una lista de 4 atributos\n",
        "atributos = [\n",
        "    \"IdPerm\",\n",
        "    \"NombrePerm\",\n",
        "    \"DescripcionPerm\",\n",
        "    \"StatusPerm\",\n",
        "]# Creamos un DF de los atributos\n",
        "df = pd.DataFrame(columns=atributos)"
      ],
      "metadata": {
        "id": "T_YbqJWKbyvQ"
      },
      "execution_count": 15,
      "outputs": []
    },
    {
      "cell_type": "code",
      "source": [
        "#Guardamos en la columna IdPerm del df los ids representativos de cada permiso.\n",
        "df['IdPerm'] = [uuid.uuid4().hex for i in range(num_aspirantes)]"
      ],
      "metadata": {
        "id": "bhx-rQzecJbv"
      },
      "execution_count": 16,
      "outputs": []
    },
    {
      "cell_type": "code",
      "source": [
        "#Hacer que los ids sean unicos para cada permiso, y en caso de ser así \n",
        "#retornar True.\n",
        "print(df['IdPerm'].nunique()==num_aspirantes)"
      ],
      "metadata": {
        "colab": {
          "base_uri": "https://localhost:8080/"
        },
        "id": "qHsIKVAmcO25",
        "outputId": "8c11b976-ad0d-436b-8bca-35da0903e438"
      },
      "execution_count": 17,
      "outputs": [
        {
          "output_type": "stream",
          "name": "stdout",
          "text": [
            "True\n"
          ]
        }
      ]
    },
    {
      "cell_type": "code",
      "source": [
        "#Los diferentes nombres de permisos\n",
        "NombrePerm = ['Read','Create','Update','Delete']\n",
        "#Creacion de los permisos para cada una de las filas\n",
        "df['NombrePerm'] = random.choices(\n",
        "    NombrePerm, \n",
        "    weights=(25,25,25,25), \n",
        "    k=num_aspirantes\n",
        ")"
      ],
      "metadata": {
        "id": "pqlVvpilcTM-"
      },
      "execution_count": 18,
      "outputs": []
    },
    {
      "cell_type": "code",
      "source": [
        "#Importamos las libreria string para la creación de una cadena de caracteres que representan texto\n",
        "import string\n",
        "#From random para la generación descripciones en cada uno de los 5 mil datos.\n",
        "from random import seed\n",
        "#From datatime para la generación descripciones en cada uno de los 5 mil datos.\n",
        "from datetime import datetime\n",
        "#Creamos la variale para la descripción de tipo string junto con su longitud de \n",
        "#cadena de caracteres\n",
        "bio=[]\n",
        "length_of_string = 20\n",
        "for i in range(0, num_aspirantes):#Creamos la descripcion de los permisos\n",
        "  random.seed(datetime.now())\n",
        "  #La descripcion contendra todo tipo de caracteres.\n",
        "  bio=(''.join(random.SystemRandom().choice(string.ascii_letters + string.digits) for i in range(length_of_string)))\n",
        "  #Guardamos la descripcion en el atributo DescripcionPerm\n",
        "  df.DescripcionPerm[i] =bio"
      ],
      "metadata": {
        "id": "Bue5FXG5e6hD"
      },
      "execution_count": 19,
      "outputs": []
    },
    {
      "cell_type": "code",
      "source": [
        "#Variable para los dos estados a manejar.\n",
        "StatusPerm = [\"Activo\", \"Desactivo\"]"
      ],
      "metadata": {
        "id": "W5FyPLEYfAc1"
      },
      "execution_count": 20,
      "outputs": []
    },
    {
      "cell_type": "code",
      "source": [
        "#Guardamos el estado generado aleatoriamente en el atributo StatusPerm\n",
        "df['StatusPerm']= random.choices(\n",
        "    StatusPerm, \n",
        "    weights=(70,30), \n",
        "    k=num_aspirantes\n",
        ")"
      ],
      "metadata": {
        "id": "ctCr3taifCO6"
      },
      "execution_count": 21,
      "outputs": []
    },
    {
      "cell_type": "code",
      "source": [
        "#Guardamos todos los datos junto con sus atributos en un archivo csv.\n",
        "df.to_csv('permisos.csv')"
      ],
      "metadata": {
        "id": "KMWB47UmcWeO"
      },
      "execution_count": 22,
      "outputs": []
    }
  ]
}