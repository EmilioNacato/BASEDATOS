{
  "nbformat": 4,
  "nbformat_minor": 0,
  "metadata": {
    "colab": {
      "provenance": []
    },
    "kernelspec": {
      "name": "python3",
      "display_name": "Python 3"
    },
    "language_info": {
      "name": "python"
    }
  },
  "cells": [
    {
      "cell_type": "code",
      "execution_count": null,
      "metadata": {
        "colab": {
          "base_uri": "https://localhost:8080/"
        },
        "id": "GFEOeoQXbteV",
        "outputId": "6be92c85-2428-478e-97aa-9979c22f1717"
      },
      "outputs": [
        {
          "output_type": "stream",
          "name": "stdout",
          "text": [
            "Looking in indexes: https://pypi.org/simple, https://us-python.pkg.dev/colab-wheels/public/simple/\n",
            "Collecting Faker\n",
            "  Downloading Faker-15.3.2-py3-none-any.whl (1.6 MB)\n",
            "\u001b[K     |████████████████████████████████| 1.6 MB 6.2 MB/s \n",
            "\u001b[?25hRequirement already satisfied: python-dateutil>=2.4 in /usr/local/lib/python3.7/dist-packages (from Faker) (2.8.2)\n",
            "Requirement already satisfied: typing-extensions>=3.10.0.1 in /usr/local/lib/python3.7/dist-packages (from Faker) (4.1.1)\n",
            "Requirement already satisfied: six>=1.5 in /usr/local/lib/python3.7/dist-packages (from python-dateutil>=2.4->Faker) (1.15.0)\n",
            "Installing collected packages: Faker\n",
            "Successfully installed Faker-15.3.2\n"
          ]
        }
      ],
      "source": [
        "#Instalamos la libreria faker para la generación de nombres aleatorios. \n",
        "!pip install Faker"
      ]
    },
    {
      "cell_type": "code",
      "source": [
        "#Importamos las librerias necesarias para la generación de datos.\n",
        "import pandas as pd\n",
        "import uuid\n",
        "import random\n",
        "from faker import Faker\n",
        "import datetime"
      ],
      "metadata": {
        "id": "KKMXxu-Zbwpv"
      },
      "execution_count": null,
      "outputs": []
    },
    {
      "cell_type": "code",
      "source": [
        "#Variable para la creación de los 5000 datos.\n",
        "num_aspirantes = 5000"
      ],
      "metadata": {
        "id": "dxRtUSeibxpA"
      },
      "execution_count": null,
      "outputs": []
    },
    {
      "cell_type": "code",
      "source": [
        "# Una lista de 4 atributos\n",
        "atributos = [\n",
        "    \"IdPerm\",\n",
        "    \"NombrePerm\",\n",
        "    \"DescripcionPerm\",\n",
        "    \"StatusPerm\",\n",
        "]# Creamos un DF de los atributos\n",
        "df = pd.DataFrame(columns=atributos)"
      ],
      "metadata": {
        "id": "T_YbqJWKbyvQ"
      },
      "execution_count": null,
      "outputs": []
    },
    {
      "cell_type": "code",
      "source": [
        "#Guardamos en la columna IdPerm del df los ids representativos de cada permiso.\n",
        "df['IdPerm'] = [uuid.uuid4().hex for i in range(num_aspirantes)]"
      ],
      "metadata": {
        "id": "bhx-rQzecJbv"
      },
      "execution_count": null,
      "outputs": []
    },
    {
      "cell_type": "code",
      "source": [
        "#Hacer que los ids sean unicos para cada permiso, y en caso de ser así \n",
        "#retornar True.\n",
        "print(df['IdPerm'].nunique()==num_aspirantes)"
      ],
      "metadata": {
        "colab": {
          "base_uri": "https://localhost:8080/"
        },
        "id": "qHsIKVAmcO25",
        "outputId": "6c009e07-4e7d-4084-d5bb-acb995bfcf18"
      },
      "execution_count": null,
      "outputs": [
        {
          "output_type": "stream",
          "name": "stdout",
          "text": [
            "True\n"
          ]
        }
      ]
    },
    {
      "cell_type": "code",
      "source": [
        "#Los diferentes nombres de permisos\n",
        "NombrePerm = ['Read','Create','Update','Delete']\n",
        "#Creacion de los permisos para cada una de las filas\n",
        "df['NombrePerm'] = random.choices(\n",
        "    NombrePerm, \n",
        "    weights=(25,25,25,25), \n",
        "    k=num_aspirantes\n",
        ")"
      ],
      "metadata": {
        "id": "pqlVvpilcTM-"
      },
      "execution_count": null,
      "outputs": []
    },
    {
      "cell_type": "code",
      "source": [
        "#Importamos las librerias necesarias para la creacion de la descripcion\n",
        "import string\n",
        "import random\n",
        "from random import seed\n",
        "from datetime import datetime\n",
        "#Creamos la variale para la descripción de tipo string junto con su longitud de \n",
        "#cadena de caracteres\n",
        "bio=[]\n",
        "length_of_string = 20\n",
        "for i in range(0, num_aspirantes):#Creamos la descripcion de los permisos\n",
        "  random.seed(datetime.now())\n",
        "  #La descripcion contendra todo tipo de caracteres.\n",
        "  bio=(''.join(random.SystemRandom().choice(string.ascii_letters + string.digits) for i in range(length_of_string)))\n",
        "  #Guardamos la descripcion en el atributo DescripcionPerm\n",
        "  df.DescripcionPerm[i] =bio"
      ],
      "metadata": {
        "id": "Bue5FXG5e6hD"
      },
      "execution_count": null,
      "outputs": []
    },
    {
      "cell_type": "code",
      "source": [
        "#Variable para los dos estados a manejar.\n",
        "StatusPerm = [\"Activo\", \"Desactivo\"]"
      ],
      "metadata": {
        "id": "W5FyPLEYfAc1"
      },
      "execution_count": null,
      "outputs": []
    },
    {
      "cell_type": "code",
      "source": [
        "#Guardamos el estado generado aleatoriamente en el atributo StatusPerm\n",
        "df['StatusPerm']= random.choices(\n",
        "    StatusPerm, \n",
        "    weights=(70,30), \n",
        "    k=num_aspirantes\n",
        ")"
      ],
      "metadata": {
        "id": "ctCr3taifCO6"
      },
      "execution_count": null,
      "outputs": []
    },
    {
      "cell_type": "code",
      "source": [
        "#Guardamos todos los datos junto con sus atributos en un archivo csv.\n",
        "df.to_csv('puntaje.csv')"
      ],
      "metadata": {
        "id": "KMWB47UmcWeO"
      },
      "execution_count": null,
      "outputs": []
    }
  ]
}