{
  "nbformat": 4,
  "nbformat_minor": 0,
  "metadata": {
    "colab": {
      "provenance": []
    },
    "kernelspec": {
      "name": "python3",
      "display_name": "Python 3"
    },
    "language_info": {
      "name": "python"
    }
  },
  "cells": [
    {
      "cell_type": "markdown",
      "source": [
        "**Entidad Puntaje**\n"
      ],
      "metadata": {
        "id": "ewj1mishPeFS"
      }
    },
    {
      "cell_type": "code",
      "execution_count": 1,
      "metadata": {
        "colab": {
          "base_uri": "https://localhost:8080/"
        },
        "id": "LMIJF0yEPXQP",
        "outputId": "4cac5e9f-afed-4407-ff1f-15c8c9b1ac85"
      },
      "outputs": [
        {
          "output_type": "stream",
          "name": "stdout",
          "text": [
            "Looking in indexes: https://pypi.org/simple, https://us-python.pkg.dev/colab-wheels/public/simple/\n",
            "Collecting Faker\n",
            "  Downloading Faker-15.3.2-py3-none-any.whl (1.6 MB)\n",
            "\u001b[K     |████████████████████████████████| 1.6 MB 12.8 MB/s \n",
            "\u001b[?25hRequirement already satisfied: typing-extensions>=3.10.0.1 in /usr/local/lib/python3.7/dist-packages (from Faker) (4.1.1)\n",
            "Requirement already satisfied: python-dateutil>=2.4 in /usr/local/lib/python3.7/dist-packages (from Faker) (2.8.2)\n",
            "Requirement already satisfied: six>=1.5 in /usr/local/lib/python3.7/dist-packages (from python-dateutil>=2.4->Faker) (1.15.0)\n",
            "Installing collected packages: Faker\n",
            "Successfully installed Faker-15.3.2\n"
          ]
        }
      ],
      "source": [
        "#Instalamos la libreria faker para la generación de nombres aleatorios. \n",
        "!pip install Faker"
      ]
    },
    {
      "cell_type": "code",
      "source": [
        "#Importamos las librerias necesarias para la generación de datos.\n",
        "import pandas as pd\n",
        "import uuid\n",
        "import random\n",
        "from faker import Faker\n",
        "import datetime"
      ],
      "metadata": {
        "id": "qKEiqz6qPcjh"
      },
      "execution_count": 2,
      "outputs": []
    },
    {
      "cell_type": "code",
      "source": [
        "#Variable para la creación de los 5000 datos.\n",
        "num_aspirantes = 5000"
      ],
      "metadata": {
        "id": "6xF0QpGyPi2l"
      },
      "execution_count": 3,
      "outputs": []
    },
    {
      "cell_type": "code",
      "source": [
        "# Una lista de 3 atributos\n",
        "atributos = [\n",
        "    \"IdPu\",\n",
        "    \"NotaPu\",\n",
        "    \"IdAs\",\n",
        "]# Creamos un DF de los atributos\n",
        "df = pd.DataFrame(columns=atributos)"
      ],
      "metadata": {
        "id": "ccni2mkaPk2c"
      },
      "execution_count": 4,
      "outputs": []
    },
    {
      "cell_type": "code",
      "source": [
        "#Guardamos en la columna IdPu del df los ids representativos de cada puntaje.\n",
        "df['IdPu'] = [uuid.uuid4().hex for i in range(num_aspirantes)]"
      ],
      "metadata": {
        "id": "js6BQUB5PuuT"
      },
      "execution_count": 5,
      "outputs": []
    },
    {
      "cell_type": "code",
      "source": [
        "#Hacer que los ids sean unicos para cada puntaje, y en caso de ser así \n",
        "#retornar True.\n",
        "print(df['IdPu'].nunique()==num_aspirantes)"
      ],
      "metadata": {
        "colab": {
          "base_uri": "https://localhost:8080/"
        },
        "id": "jnUCf30pP3oT",
        "outputId": "7bf2a790-f2ad-4082-8896-6ab2eb6606d8"
      },
      "execution_count": 6,
      "outputs": [
        {
          "output_type": "stream",
          "name": "stdout",
          "text": [
            "True\n"
          ]
        }
      ]
    },
    {
      "cell_type": "code",
      "source": [
        "#Importamos las librerias necesarias para la generacion de datos\n",
        "import random as r\n",
        "from random import seed\n",
        "from datetime import datetime\n",
        "#Variable de tipo string para las notas\n",
        "notas=[]\n",
        "for i in range(num_aspirantes):#Generacion de puntajes \n",
        "  random.seed(datetime.now())\n",
        "  notas = random.randint(400, 1000)#Rango de los puntajes generados con un limite de 400 a 1000\n",
        "  df.NotaPu[i]=notas #Guardamos los puntajes generados en la variable NotasPu"
      ],
      "metadata": {
        "id": "2JNFwt3OP4qr"
      },
      "execution_count": 7,
      "outputs": []
    },
    {
      "cell_type": "code",
      "source": [
        "#Guardamos en la columna IdAs del df los ids representativos de cada aspirante.\n",
        "df['IdAs'] = [uuid.uuid4().hex for i in range(num_aspirantes)]"
      ],
      "metadata": {
        "id": "peMGv77DUA-8"
      },
      "execution_count": 8,
      "outputs": []
    },
    {
      "cell_type": "code",
      "source": [
        "#Hacer que los ids sean unicos para cada aspirante, y en caso de ser así \n",
        "#retornar True.\n",
        "print(df['IdAs'].nunique()==num_aspirantes)"
      ],
      "metadata": {
        "colab": {
          "base_uri": "https://localhost:8080/"
        },
        "id": "4NwTS63QUCrO",
        "outputId": "837958e3-f095-4129-dc0c-f4a59a8ff053"
      },
      "execution_count": 9,
      "outputs": [
        {
          "output_type": "stream",
          "name": "stdout",
          "text": [
            "True\n"
          ]
        }
      ]
    },
    {
      "cell_type": "code",
      "source": [
        "#Guardamos todos los datos junto con sus atributos en un archivo csv.\n",
        "df.to_csv('puntaje.csv')"
      ],
      "metadata": {
        "id": "GjtjXtXXQefw"
      },
      "execution_count": 10,
      "outputs": []
    }
  ]
}