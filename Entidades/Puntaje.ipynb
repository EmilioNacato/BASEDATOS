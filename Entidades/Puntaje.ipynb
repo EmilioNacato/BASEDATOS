{
  "nbformat": 4,
  "nbformat_minor": 0,
  "metadata": {
    "colab": {
      "provenance": []
    },
    "kernelspec": {
      "name": "python3",
      "display_name": "Python 3"
    },
    "language_info": {
      "name": "python"
    }
  },
  "cells": [
    {
      "cell_type": "markdown",
      "source": [
        "**Entidad Puntaje**\n"
      ],
      "metadata": {
        "id": "ewj1mishPeFS"
      }
    },
    {
      "cell_type": "code",
      "execution_count": 11,
      "metadata": {
        "colab": {
          "base_uri": "https://localhost:8080/"
        },
        "id": "LMIJF0yEPXQP",
        "outputId": "e29e1feb-75fc-427d-afde-04b337d1f9d0"
      },
      "outputs": [
        {
          "output_type": "stream",
          "name": "stdout",
          "text": [
            "Looking in indexes: https://pypi.org/simple, https://us-python.pkg.dev/colab-wheels/public/simple/\n",
            "Requirement already satisfied: Faker in /usr/local/lib/python3.7/dist-packages (15.3.3)\n",
            "Requirement already satisfied: python-dateutil>=2.4 in /usr/local/lib/python3.7/dist-packages (from Faker) (2.8.2)\n",
            "Requirement already satisfied: typing-extensions>=3.10.0.1 in /usr/local/lib/python3.7/dist-packages (from Faker) (4.1.1)\n",
            "Requirement already satisfied: six>=1.5 in /usr/local/lib/python3.7/dist-packages (from python-dateutil>=2.4->Faker) (1.15.0)\n"
          ]
        }
      ],
      "source": [
        "#Instalamos la libreria faker para la generación de nombres aleatorios. \n",
        "!pip install Faker"
      ]
    },
    {
      "cell_type": "code",
      "source": [
        "#Importamos las librerias necesarias para la generación de datos.\n",
        "#Importamos la libreria pandas para el manejo y estructuración de los datos sinteticos\n",
        "import pandas as pd\n",
        "#Importamos la libreria uuid para la generacion de codigos Ids propios\n",
        "import uuid\n",
        "#Importamos la libreria random para generacion de numeros randomicos\n",
        "import random\n",
        "#Importamos la libreria faker para generacion de nombres aleatorios\n",
        "from faker import Faker\n",
        "#Importamos la libreria datetime para las fechas\n",
        "import datetime"
      ],
      "metadata": {
        "id": "qKEiqz6qPcjh"
      },
      "execution_count": 12,
      "outputs": []
    },
    {
      "cell_type": "code",
      "source": [
        "#Variable para la creación de los 5000 datos.\n",
        "num_aspirantes = 5000"
      ],
      "metadata": {
        "id": "6xF0QpGyPi2l"
      },
      "execution_count": 13,
      "outputs": []
    },
    {
      "cell_type": "code",
      "source": [
        "# Una lista de 3 atributos\n",
        "atributos = [\n",
        "    \"IdPu\",\n",
        "    \"NotaPu\",\n",
        "    \"IdAs\",\n",
        "]# Creamos un DF de los atributos\n",
        "df = pd.DataFrame(columns=atributos)"
      ],
      "metadata": {
        "id": "ccni2mkaPk2c"
      },
      "execution_count": 14,
      "outputs": []
    },
    {
      "cell_type": "code",
      "source": [
        "#Guardamos en la columna IdPu del df los ids representativos de cada puntaje.\n",
        "df['IdPu'] = [uuid.uuid4().hex for i in range(num_aspirantes)]"
      ],
      "metadata": {
        "id": "js6BQUB5PuuT"
      },
      "execution_count": 15,
      "outputs": []
    },
    {
      "cell_type": "code",
      "source": [
        "#Hacer que los ids sean unicos para cada puntaje, y en caso de ser así \n",
        "#retornar True.\n",
        "print(df['IdPu'].nunique()==num_aspirantes)"
      ],
      "metadata": {
        "colab": {
          "base_uri": "https://localhost:8080/"
        },
        "id": "jnUCf30pP3oT",
        "outputId": "2bc79506-e730-4ff2-e24c-7c0308c44857"
      },
      "execution_count": 16,
      "outputs": [
        {
          "output_type": "stream",
          "name": "stdout",
          "text": [
            "True\n"
          ]
        }
      ]
    },
    {
      "cell_type": "code",
      "source": [
        "#Importamos la libreria random para la generacion de notas aleatorias.\n",
        "import random as r\n",
        "#From random para la generación notas en cada uno de los 5 mil datos.\n",
        "from random import seed\n",
        "#From datetime para la generación notas en cada uno de los 5 mil datos.\n",
        "from datetime import datetime\n",
        "#Variable de tipo string para las notas\n",
        "notas=[]\n",
        "for i in range(num_aspirantes):#Generacion de puntajes \n",
        "  random.seed(datetime.now())\n",
        "  notas = random.randint(400, 1000)#Rango de los puntajes generados con un limite de 400 a 1000\n",
        "  df.NotaPu[i]=notas #Guardamos los puntajes generados en la variable NotasPu"
      ],
      "metadata": {
        "id": "2JNFwt3OP4qr"
      },
      "execution_count": 17,
      "outputs": []
    },
    {
      "cell_type": "code",
      "source": [
        "#Guardamos en la columna IdAs del df los ids representativos de cada aspirante.\n",
        "df['IdAs'] = [uuid.uuid4().hex for i in range(num_aspirantes)]"
      ],
      "metadata": {
        "id": "peMGv77DUA-8"
      },
      "execution_count": 18,
      "outputs": []
    },
    {
      "cell_type": "code",
      "source": [
        "#Hacer que los ids sean unicos para cada aspirante, y en caso de ser así \n",
        "#retornar True.\n",
        "print(df['IdAs'].nunique()==num_aspirantes)"
      ],
      "metadata": {
        "colab": {
          "base_uri": "https://localhost:8080/"
        },
        "id": "4NwTS63QUCrO",
        "outputId": "968faaa8-c87f-44bb-aec4-15ddc9786200"
      },
      "execution_count": 19,
      "outputs": [
        {
          "output_type": "stream",
          "name": "stdout",
          "text": [
            "True\n"
          ]
        }
      ]
    },
    {
      "cell_type": "code",
      "source": [
        "#Guardamos todos los datos junto con sus atributos en un archivo csv.\n",
        "df.to_csv('puntaje.csv')"
      ],
      "metadata": {
        "id": "GjtjXtXXQefw"
      },
      "execution_count": 20,
      "outputs": []
    }
  ]
}